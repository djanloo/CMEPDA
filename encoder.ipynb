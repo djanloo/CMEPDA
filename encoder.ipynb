{
 "cells": [
  {
   "cell_type": "markdown",
   "metadata": {},
   "source": [
    "## First estimate\n",
    "\n",
    "Test to check the accuracy of an estimate based on the time of arrival only"
   ]
  },
  {
   "cell_type": "code",
   "execution_count": 1,
   "metadata": {},
   "outputs": [],
   "source": [
    "from pd4ml import Airshower\n",
    "from matplotlib import pyplot as plt \n",
    "THINNING = 1 # Thinning factor: takes one sample among a fixed number\n",
    "\n",
    "# Load data\n",
    "x,y = Airshower.load_data(\"train\")\n",
    "\n",
    "# Takes only the time of arrival over the thinned dataset\n",
    "toa_train = x['features'][0][::THINNING,:,-1].reshape((-1,9,9,1))\n",
    "y = y[::THINNING]\n",
    "del x # Remove unused data from heap\n",
    "\n",
    "x_test, y_test = Airshower.load_data(\"test\")\n",
    "toa_test =  x_test['features'][0][::THINNING,:,-1].reshape((-1,9,9,1))\n",
    "y_test = y_test[::THINNING]\n",
    "del x_test"
   ]
  },
  {
   "cell_type": "markdown",
   "metadata": {},
   "source": [
    "Since the data manifest some sort of redundance (angle, height, dispersion angle and average speed give the t.o.a. matrix, 4 parameters to 81 observations)  an encoder network is tested"
   ]
  },
  {
   "cell_type": "code",
   "execution_count": 2,
   "metadata": {},
   "outputs": [
    {
     "name": "stderr",
     "output_type": "stream",
     "text": [
      "2022-06-22 15:43:45.336967: W tensorflow/stream_executor/platform/default/dso_loader.cc:64] Could not load dynamic library 'libcudart.so.11.0'; dlerror: libcudart.so.11.0: cannot open shared object file: No such file or directory\n",
      "2022-06-22 15:43:45.337023: I tensorflow/stream_executor/cuda/cudart_stub.cc:29] Ignore above cudart dlerror if you do not have a GPU set up on your machine.\n"
     ]
    },
    {
     "name": "stdout",
     "output_type": "stream",
     "text": [
      "Model: \"model\"\n",
      "_________________________________________________________________\n",
      " Layer (type)                Output Shape              Param #   \n",
      "=================================================================\n",
      " input_1 (InputLayer)        [(None, 9, 9, 1)]         0         \n",
      "                                                                 \n",
      " flatten (Flatten)           (None, 81)                0         \n",
      "                                                                 \n",
      " dense (Dense)               (None, 81)                6642      \n",
      "                                                                 \n",
      " dense_1 (Dense)             (None, 27)                2214      \n",
      "                                                                 \n",
      " dense_2 (Dense)             (None, 9)                 252       \n",
      "                                                                 \n",
      " dense_3 (Dense)             (None, 4)                 40        \n",
      "                                                                 \n",
      " dense_4 (Dense)             (None, 4)                 20        \n",
      "                                                                 \n",
      " dense_5 (Dense)             (None, 1)                 5         \n",
      "                                                                 \n",
      "=================================================================\n",
      "Total params: 9,173\n",
      "Trainable params: 9,173\n",
      "Non-trainable params: 0\n",
      "_________________________________________________________________\n"
     ]
    },
    {
     "name": "stderr",
     "output_type": "stream",
     "text": [
      "2022-06-22 15:43:49.244628: W tensorflow/stream_executor/platform/default/dso_loader.cc:64] Could not load dynamic library 'libcuda.so.1'; dlerror: libcuda.so.1: cannot open shared object file: No such file or directory\n",
      "2022-06-22 15:43:49.244684: W tensorflow/stream_executor/cuda/cuda_driver.cc:269] failed call to cuInit: UNKNOWN ERROR (303)\n",
      "2022-06-22 15:43:49.244723: I tensorflow/stream_executor/cuda/cuda_diagnostics.cc:156] kernel driver does not appear to be running on this host (djanloo-ratchet): /proc/driver/nvidia/version does not exist\n",
      "2022-06-22 15:43:49.245490: I tensorflow/core/platform/cpu_feature_guard.cc:193] This TensorFlow binary is optimized with oneAPI Deep Neural Network Library (oneDNN) to use the following CPU instructions in performance-critical operations:  AVX2 FMA\n",
      "To enable them in other operations, rebuild TensorFlow with the appropriate compiler flags.\n"
     ]
    }
   ],
   "source": [
    "from keras import layers\n",
    "from keras.models import Model\n",
    "from keras.utils.vis_utils import plot_model\n",
    "\n",
    "input = layers.Input(shape=(9, 9, 1))\n",
    "x = layers.Flatten()(input)\n",
    "x = layers.Dense(81, activation=\"relu\")(x)\n",
    "x = layers.Dense(27, activation=\"relu\")(x)\n",
    "x = layers.Dense(9, activation=\"relu\")(x)\n",
    "x = layers.Dense(4, activation=\"relu\")(x)\n",
    "x = layers.Dense(4, activation=\"relu\")(x)\n",
    "x = layers.Dense(1)(x)\n",
    "\n",
    "retino = Model(input, x)\n",
    "retino.compile(optimizer=\"adam\", loss=\"mean_squared_error\")\n",
    "# plot_model(retino, show_shapes=True, show_layer_names=True)\n",
    "retino.summary()"
   ]
  },
  {
   "cell_type": "code",
   "execution_count": 3,
   "metadata": {},
   "outputs": [
    {
     "name": "stdout",
     "output_type": "stream",
     "text": [
      "Epoch 1/50\n",
      "547/547 [==============================] - 3s 5ms/step - loss: 174831.1562 - val_loss: 5307.6182\n",
      "Epoch 2/50\n",
      "547/547 [==============================] - 2s 4ms/step - loss: 3588.7498 - val_loss: 3115.1138\n",
      "Epoch 3/50\n",
      "547/547 [==============================] - 2s 4ms/step - loss: 3003.8486 - val_loss: 2968.6387\n",
      "Epoch 4/50\n",
      "547/547 [==============================] - 2s 4ms/step - loss: 2913.8499 - val_loss: 2965.5520\n",
      "Epoch 5/50\n",
      "547/547 [==============================] - 2s 4ms/step - loss: 2881.6929 - val_loss: 2912.8010\n",
      "Epoch 6/50\n",
      "547/547 [==============================] - 2s 4ms/step - loss: 2858.9333 - val_loss: 2906.5847\n",
      "Epoch 7/50\n",
      "547/547 [==============================] - 2s 4ms/step - loss: 2835.3533 - val_loss: 2876.5344\n",
      "Epoch 8/50\n",
      "547/547 [==============================] - 2s 4ms/step - loss: 2820.8433 - val_loss: 2932.5625\n",
      "Epoch 9/50\n",
      "547/547 [==============================] - 2s 4ms/step - loss: 2799.8945 - val_loss: 2850.3188\n",
      "Epoch 10/50\n",
      "547/547 [==============================] - 2s 4ms/step - loss: 2797.9858 - val_loss: 2809.8203\n",
      "Epoch 11/50\n",
      "547/547 [==============================] - 2s 4ms/step - loss: 2778.8701 - val_loss: 2850.3159\n",
      "Epoch 12/50\n",
      "547/547 [==============================] - 2s 4ms/step - loss: 2773.9587 - val_loss: 2880.6929\n",
      "Epoch 13/50\n",
      "547/547 [==============================] - 2s 4ms/step - loss: 2762.2957 - val_loss: 2836.4944\n",
      "Epoch 14/50\n",
      "547/547 [==============================] - 2s 4ms/step - loss: 2744.7925 - val_loss: 2913.3711\n",
      "Epoch 15/50\n",
      "547/547 [==============================] - 2s 4ms/step - loss: 2747.5120 - val_loss: 2801.4944\n",
      "Epoch 16/50\n",
      "547/547 [==============================] - 2s 4ms/step - loss: 2723.6587 - val_loss: 2775.5664\n",
      "Epoch 17/50\n",
      "547/547 [==============================] - 2s 4ms/step - loss: 2723.8091 - val_loss: 2889.4875\n",
      "Epoch 18/50\n",
      "547/547 [==============================] - 2s 4ms/step - loss: 2717.6655 - val_loss: 2846.8940\n",
      "Epoch 19/50\n",
      "547/547 [==============================] - 2s 4ms/step - loss: 2714.9739 - val_loss: 2806.9402\n",
      "Epoch 20/50\n",
      "547/547 [==============================] - 2s 4ms/step - loss: 2718.4937 - val_loss: 2760.7737\n",
      "Epoch 21/50\n",
      "547/547 [==============================] - 2s 4ms/step - loss: 2711.8096 - val_loss: 2802.4458\n",
      "Epoch 22/50\n",
      "547/547 [==============================] - 2s 4ms/step - loss: 2704.9121 - val_loss: 2837.5413\n",
      "Epoch 23/50\n",
      "547/547 [==============================] - 2s 4ms/step - loss: 2698.6646 - val_loss: 2764.9570\n",
      "Epoch 24/50\n",
      "547/547 [==============================] - 2s 4ms/step - loss: 2693.7954 - val_loss: 2788.3411\n",
      "Epoch 25/50\n",
      "547/547 [==============================] - 2s 4ms/step - loss: 2683.4524 - val_loss: 2780.3489\n",
      "Epoch 26/50\n",
      "547/547 [==============================] - 2s 4ms/step - loss: 2691.6038 - val_loss: 2776.0137\n",
      "Epoch 27/50\n",
      "547/547 [==============================] - 2s 4ms/step - loss: 2675.0906 - val_loss: 2838.5894\n",
      "Epoch 28/50\n",
      "547/547 [==============================] - 2s 4ms/step - loss: 2682.0830 - val_loss: 2765.0110\n",
      "Epoch 29/50\n",
      "547/547 [==============================] - 2s 4ms/step - loss: 2669.9551 - val_loss: 2798.6689\n",
      "Epoch 30/50\n",
      "547/547 [==============================] - 2s 4ms/step - loss: 2663.7656 - val_loss: 2776.3611\n",
      "Epoch 31/50\n",
      "547/547 [==============================] - 2s 4ms/step - loss: 2675.8135 - val_loss: 2767.0691\n",
      "Epoch 32/50\n",
      "547/547 [==============================] - 2s 4ms/step - loss: 2665.0728 - val_loss: 2768.6760\n",
      "Epoch 33/50\n",
      "547/547 [==============================] - 2s 4ms/step - loss: 2663.0615 - val_loss: 2792.2432\n",
      "Epoch 34/50\n",
      "547/547 [==============================] - 2s 4ms/step - loss: 2667.9014 - val_loss: 2788.2373\n",
      "Epoch 35/50\n",
      "547/547 [==============================] - 2s 4ms/step - loss: 2665.5078 - val_loss: 2767.6848\n",
      "Epoch 36/50\n",
      "547/547 [==============================] - 2s 4ms/step - loss: 2663.6436 - val_loss: 2794.3604\n",
      "Epoch 37/50\n",
      "547/547 [==============================] - 2s 4ms/step - loss: 2657.5215 - val_loss: 2775.6655\n",
      "Epoch 38/50\n",
      "547/547 [==============================] - 2s 4ms/step - loss: 2653.7073 - val_loss: 2758.1211\n",
      "Epoch 39/50\n",
      "547/547 [==============================] - 2s 4ms/step - loss: 2650.0066 - val_loss: 2765.6880\n",
      "Epoch 40/50\n",
      "547/547 [==============================] - 2s 4ms/step - loss: 2658.4802 - val_loss: 2756.4221\n",
      "Epoch 41/50\n",
      "547/547 [==============================] - 2s 4ms/step - loss: 2642.5032 - val_loss: 2787.2576\n",
      "Epoch 42/50\n",
      "547/547 [==============================] - 2s 4ms/step - loss: 2644.1650 - val_loss: 2823.1221\n",
      "Epoch 43/50\n",
      "547/547 [==============================] - 2s 4ms/step - loss: 2650.1416 - val_loss: 2859.7729\n",
      "Epoch 44/50\n",
      "547/547 [==============================] - 2s 4ms/step - loss: 2648.2666 - val_loss: 2802.6467\n",
      "Epoch 45/50\n",
      "547/547 [==============================] - 2s 4ms/step - loss: 2639.6003 - val_loss: 2752.8027\n",
      "Epoch 46/50\n",
      "547/547 [==============================] - 2s 4ms/step - loss: 2638.7334 - val_loss: 2773.7710\n",
      "Epoch 47/50\n",
      "547/547 [==============================] - 2s 4ms/step - loss: 2643.0869 - val_loss: 2772.5222\n",
      "Epoch 48/50\n",
      "547/547 [==============================] - 2s 4ms/step - loss: 2641.1892 - val_loss: 2793.4434\n",
      "Epoch 49/50\n",
      "547/547 [==============================] - 2s 4ms/step - loss: 2647.3638 - val_loss: 2775.1858\n",
      "Epoch 50/50\n",
      "547/547 [==============================] - 2s 4ms/step - loss: 2644.5935 - val_loss: 2770.1550\n"
     ]
    },
    {
     "data": {
      "text/plain": [
       "<keras.callbacks.History at 0x7fdba9567dc0>"
      ]
     },
     "execution_count": 3,
     "metadata": {},
     "output_type": "execute_result"
    }
   ],
   "source": [
    "retino.fit(\n",
    "    x=toa_train,\n",
    "    y=y,\n",
    "    epochs=50,\n",
    "    batch_size=128,\n",
    "    shuffle=True,\n",
    "    validation_data=(toa_test, y_test),\n",
    ")\n"
   ]
  },
  {
   "cell_type": "code",
   "execution_count": 4,
   "metadata": {},
   "outputs": [
    {
     "name": "stdout",
     "output_type": "stream",
     "text": [
      "938/938 [==============================] - 2s 2ms/step\n",
      "6.804388460265896\n"
     ]
    }
   ],
   "source": [
    "import numpy as np\n",
    "errors = np.std( retino.predict(toa_test).squeeze() - y_test )/y_test*100\n",
    "print(np.mean(errors))"
   ]
  }
 ],
 "metadata": {
  "kernelspec": {
   "display_name": "Python 3.9.7 ('cmepda-VJ-vmc_S')",
   "language": "python",
   "name": "python3"
  },
  "language_info": {
   "codemirror_mode": {
    "name": "ipython",
    "version": 3
   },
   "file_extension": ".py",
   "mimetype": "text/x-python",
   "name": "python",
   "nbconvert_exporter": "python",
   "pygments_lexer": "ipython3",
   "version": "3.9.7"
  },
  "orig_nbformat": 4,
  "vscode": {
   "interpreter": {
    "hash": "fea3a0098ef8e5af552479005342e73d81ab0adc0ee5d6012c4ddb1cf8453795"
   }
  }
 },
 "nbformat": 4,
 "nbformat_minor": 2
}
