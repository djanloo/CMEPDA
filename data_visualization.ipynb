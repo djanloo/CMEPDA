{
 "cells": [
  {
   "cell_type": "code",
   "execution_count": 1,
   "metadata": {},
   "outputs": [],
   "source": [
    "from pd4ml import Airshower\n",
    "from matplotlib import pyplot as plt \n",
    "x,y = Airshower.load_data(\"train\")\n",
    "toa_train = x['features'][0][::10,:,-1].reshape((-1,9,9,1))\n",
    "del x\n",
    "x_test, y_test = Airshower.load_data(\"test\")\n",
    "toa_test =  x_test['features'][0][::10,:,-1].reshape((-1,9,9,1))\n",
    "del x_test\n",
    "y = y[::10]\n",
    "y_test = y_test[::10]"
   ]
  },
  {
   "cell_type": "code",
   "execution_count": 2,
   "metadata": {},
   "outputs": [
    {
     "name": "stderr",
     "output_type": "stream",
     "text": [
      "2022-06-21 18:58:16.957588: W tensorflow/stream_executor/platform/default/dso_loader.cc:64] Could not load dynamic library 'libcudart.so.11.0'; dlerror: libcudart.so.11.0: cannot open shared object file: No such file or directory\n",
      "2022-06-21 18:58:16.957622: I tensorflow/stream_executor/cuda/cudart_stub.cc:29] Ignore above cudart dlerror if you do not have a GPU set up on your machine.\n"
     ]
    },
    {
     "name": "stdout",
     "output_type": "stream",
     "text": [
      "Model: \"model\"\n",
      "_________________________________________________________________\n",
      " Layer (type)                Output Shape              Param #   \n",
      "=================================================================\n",
      " input_1 (InputLayer)        [(None, 9, 9, 1)]         0         \n",
      "                                                                 \n",
      " conv2d (Conv2D)             (None, 9, 9, 50)          500       \n",
      "                                                                 \n",
      " max_pooling2d (MaxPooling2D  (None, 5, 5, 50)         0         \n",
      " )                                                               \n",
      "                                                                 \n",
      " flatten (Flatten)           (None, 1250)              0         \n",
      "                                                                 \n",
      " dense (Dense)               (None, 50)                62550     \n",
      "                                                                 \n",
      " dense_1 (Dense)             (None, 50)                2550      \n",
      "                                                                 \n",
      " dense_2 (Dense)             (None, 1)                 51        \n",
      "                                                                 \n",
      "=================================================================\n",
      "Total params: 65,651\n",
      "Trainable params: 65,651\n",
      "Non-trainable params: 0\n",
      "_________________________________________________________________\n"
     ]
    },
    {
     "name": "stderr",
     "output_type": "stream",
     "text": [
      "2022-06-21 18:58:20.150678: W tensorflow/stream_executor/platform/default/dso_loader.cc:64] Could not load dynamic library 'libcuda.so.1'; dlerror: libcuda.so.1: cannot open shared object file: No such file or directory\n",
      "2022-06-21 18:58:20.150710: W tensorflow/stream_executor/cuda/cuda_driver.cc:269] failed call to cuInit: UNKNOWN ERROR (303)\n",
      "2022-06-21 18:58:20.150738: I tensorflow/stream_executor/cuda/cuda_diagnostics.cc:156] kernel driver does not appear to be running on this host (djanloo-ratchet): /proc/driver/nvidia/version does not exist\n",
      "2022-06-21 18:58:20.151473: I tensorflow/core/platform/cpu_feature_guard.cc:193] This TensorFlow binary is optimized with oneAPI Deep Neural Network Library (oneDNN) to use the following CPU instructions in performance-critical operations:  AVX2 FMA\n",
      "To enable them in other operations, rebuild TensorFlow with the appropriate compiler flags.\n"
     ]
    }
   ],
   "source": [
    "from keras import layers\n",
    "from keras.models import Model\n",
    "\n",
    "input = layers.Input(shape=(9, 9, 1))\n",
    "x = layers.Conv2D(50, (3, 3), activation=\"relu\", padding=\"same\")(input)\n",
    "x = layers.MaxPooling2D((2, 2), padding=\"same\")(x)\n",
    "x = layers.Flatten()(x)\n",
    "x = layers.Dense(50)(x)\n",
    "x = layers.Dense(50)(x)\n",
    "x = layers.Dense(1)(x)\n",
    "\n",
    "retino = Model(input, x)\n",
    "retino.compile(optimizer=\"adam\", loss=\"mean_squared_error\")\n",
    "retino.summary()"
   ]
  },
  {
   "cell_type": "code",
   "execution_count": 6,
   "metadata": {},
   "outputs": [
    {
     "name": "stdout",
     "output_type": "stream",
     "text": [
      "Epoch 1/50\n",
      "55/55 [==============================] - 1s 23ms/step - loss: 2936.5356 - val_loss: 2883.7493\n",
      "Epoch 2/50\n",
      "55/55 [==============================] - 1s 17ms/step - loss: 2923.5259 - val_loss: 2907.3232\n",
      "Epoch 3/50\n",
      "55/55 [==============================] - 1s 15ms/step - loss: 2924.5906 - val_loss: 2882.4243\n",
      "Epoch 4/50\n",
      "55/55 [==============================] - 1s 15ms/step - loss: 2919.9844 - val_loss: 2881.4021\n",
      "Epoch 5/50\n",
      "55/55 [==============================] - 1s 15ms/step - loss: 2924.9990 - val_loss: 2882.6179\n",
      "Epoch 6/50\n",
      "55/55 [==============================] - 1s 15ms/step - loss: 2912.7993 - val_loss: 2872.1453\n",
      "Epoch 7/50\n",
      "55/55 [==============================] - 1s 15ms/step - loss: 2939.8623 - val_loss: 2883.9990\n",
      "Epoch 8/50\n",
      "55/55 [==============================] - 1s 17ms/step - loss: 2908.9543 - val_loss: 2914.6406\n",
      "Epoch 9/50\n",
      "55/55 [==============================] - 1s 20ms/step - loss: 2912.0994 - val_loss: 2877.7327\n",
      "Epoch 10/50\n",
      "55/55 [==============================] - 1s 16ms/step - loss: 2914.7400 - val_loss: 2872.9341\n",
      "Epoch 11/50\n",
      "55/55 [==============================] - 1s 18ms/step - loss: 2906.6470 - val_loss: 2865.9963\n",
      "Epoch 12/50\n",
      "55/55 [==============================] - 1s 21ms/step - loss: 2914.4514 - val_loss: 2930.6177\n",
      "Epoch 13/50\n",
      "55/55 [==============================] - 1s 20ms/step - loss: 2905.4385 - val_loss: 2869.8579\n",
      "Epoch 14/50\n",
      "55/55 [==============================] - 1s 15ms/step - loss: 2930.1643 - val_loss: 2956.9875\n",
      "Epoch 15/50\n",
      "55/55 [==============================] - 1s 14ms/step - loss: 2911.4014 - val_loss: 2867.3665\n",
      "Epoch 16/50\n",
      "55/55 [==============================] - 1s 16ms/step - loss: 2903.8193 - val_loss: 2869.7273\n",
      "Epoch 17/50\n",
      "55/55 [==============================] - 1s 19ms/step - loss: 2901.2908 - val_loss: 2863.2224\n",
      "Epoch 18/50\n",
      "55/55 [==============================] - 1s 19ms/step - loss: 2921.1875 - val_loss: 2864.8303\n",
      "Epoch 19/50\n",
      "55/55 [==============================] - 1s 16ms/step - loss: 2917.3528 - val_loss: 2878.0020\n",
      "Epoch 20/50\n",
      "55/55 [==============================] - 1s 16ms/step - loss: 2900.3337 - val_loss: 2861.7827\n",
      "Epoch 21/50\n",
      "55/55 [==============================] - 1s 16ms/step - loss: 2898.0520 - val_loss: 2966.5134\n",
      "Epoch 22/50\n",
      "55/55 [==============================] - 1s 16ms/step - loss: 2905.7192 - val_loss: 2895.4097\n",
      "Epoch 23/50\n",
      "55/55 [==============================] - 1s 16ms/step - loss: 2901.3657 - val_loss: 2863.6770\n",
      "Epoch 24/50\n",
      "55/55 [==============================] - 1s 16ms/step - loss: 2904.8804 - val_loss: 2862.3569\n",
      "Epoch 25/50\n",
      "55/55 [==============================] - 1s 16ms/step - loss: 2904.1738 - val_loss: 2869.1863\n",
      "Epoch 26/50\n",
      "55/55 [==============================] - 1s 16ms/step - loss: 2904.2754 - val_loss: 2964.7197\n",
      "Epoch 27/50\n",
      "55/55 [==============================] - 1s 16ms/step - loss: 2923.7209 - val_loss: 2908.5286\n",
      "Epoch 28/50\n",
      "55/55 [==============================] - 1s 16ms/step - loss: 2899.9443 - val_loss: 2888.8540\n",
      "Epoch 29/50\n",
      "55/55 [==============================] - 1s 16ms/step - loss: 2897.3738 - val_loss: 2862.9216\n",
      "Epoch 30/50\n",
      "55/55 [==============================] - 1s 16ms/step - loss: 2899.8486 - val_loss: 2897.5530\n",
      "Epoch 31/50\n",
      "55/55 [==============================] - 1s 16ms/step - loss: 2918.2319 - val_loss: 2859.8174\n",
      "Epoch 32/50\n",
      "55/55 [==============================] - 1s 16ms/step - loss: 2895.7783 - val_loss: 2860.7114\n",
      "Epoch 33/50\n",
      "55/55 [==============================] - 1s 16ms/step - loss: 2920.6689 - val_loss: 2860.8862\n",
      "Epoch 34/50\n",
      "55/55 [==============================] - 1s 16ms/step - loss: 2902.0359 - val_loss: 2862.4431\n",
      "Epoch 35/50\n",
      "55/55 [==============================] - 1s 17ms/step - loss: 2966.5540 - val_loss: 2870.8279\n",
      "Epoch 36/50\n",
      "55/55 [==============================] - 1s 16ms/step - loss: 2933.9163 - val_loss: 2861.8977\n",
      "Epoch 37/50\n",
      "55/55 [==============================] - 1s 16ms/step - loss: 2906.9109 - val_loss: 2862.2151\n",
      "Epoch 38/50\n",
      "55/55 [==============================] - 1s 17ms/step - loss: 2950.0532 - val_loss: 3088.2278\n",
      "Epoch 39/50\n",
      "55/55 [==============================] - 1s 16ms/step - loss: 2927.5945 - val_loss: 2925.2415\n",
      "Epoch 40/50\n",
      "55/55 [==============================] - 1s 16ms/step - loss: 2916.9956 - val_loss: 2874.1841\n",
      "Epoch 41/50\n",
      "55/55 [==============================] - 1s 18ms/step - loss: 2922.4668 - val_loss: 2863.0383\n",
      "Epoch 42/50\n",
      "55/55 [==============================] - 1s 16ms/step - loss: 2923.4309 - val_loss: 2959.9036\n",
      "Epoch 43/50\n",
      "55/55 [==============================] - 1s 17ms/step - loss: 2908.2170 - val_loss: 2911.2444\n",
      "Epoch 44/50\n",
      "55/55 [==============================] - 1s 16ms/step - loss: 2920.5437 - val_loss: 2868.8501\n",
      "Epoch 45/50\n",
      "55/55 [==============================] - 1s 18ms/step - loss: 2904.1929 - val_loss: 2932.2947\n",
      "Epoch 46/50\n",
      "55/55 [==============================] - 1s 17ms/step - loss: 2908.4285 - val_loss: 2922.6494\n",
      "Epoch 47/50\n",
      "55/55 [==============================] - 1s 17ms/step - loss: 2905.2512 - val_loss: 2909.4592\n",
      "Epoch 48/50\n",
      "55/55 [==============================] - 1s 16ms/step - loss: 2925.6321 - val_loss: 2934.9397\n",
      "Epoch 49/50\n",
      "55/55 [==============================] - 1s 17ms/step - loss: 2913.8057 - val_loss: 2865.7051\n",
      "Epoch 50/50\n",
      "55/55 [==============================] - 1s 17ms/step - loss: 2897.9177 - val_loss: 2861.2046\n"
     ]
    },
    {
     "data": {
      "text/plain": [
       "<keras.callbacks.History at 0x7f68606b3370>"
      ]
     },
     "execution_count": 6,
     "metadata": {},
     "output_type": "execute_result"
    }
   ],
   "source": [
    "retino.fit(\n",
    "    x=toa_train,\n",
    "    y=y,\n",
    "    epochs=50,\n",
    "    batch_size=128,\n",
    "    shuffle=True,\n",
    "    validation_data=(toa_test, y_test),\n",
    ")\n"
   ]
  },
  {
   "cell_type": "code",
   "execution_count": 26,
   "metadata": {},
   "outputs": [
    {
     "name": "stdout",
     "output_type": "stream",
     "text": [
      "94/94 [==============================] - 1s 6ms/step\n",
      "5.322098825477716\n"
     ]
    }
   ],
   "source": [
    "import numpy as np\n",
    "errors = np.abs( retino.predict(toa_test).squeeze() - y_test ) / y_test * 100 \n",
    "print(np.mean(errors))"
   ]
  },
  {
   "cell_type": "code",
   "execution_count": null,
   "metadata": {},
   "outputs": [],
   "source": []
  }
 ],
 "metadata": {
  "kernelspec": {
   "display_name": "Python 3.9.7 ('cmepda-VJ-vmc_S')",
   "language": "python",
   "name": "python3"
  },
  "language_info": {
   "codemirror_mode": {
    "name": "ipython",
    "version": 3
   },
   "file_extension": ".py",
   "mimetype": "text/x-python",
   "name": "python",
   "nbconvert_exporter": "python",
   "pygments_lexer": "ipython3",
   "version": "3.9.7"
  },
  "orig_nbformat": 4,
  "vscode": {
   "interpreter": {
    "hash": "fea3a0098ef8e5af552479005342e73d81ab0adc0ee5d6012c4ddb1cf8453795"
   }
  }
 },
 "nbformat": 4,
 "nbformat_minor": 2
}
